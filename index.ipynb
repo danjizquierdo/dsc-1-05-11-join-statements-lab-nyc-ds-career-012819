{
 "cells": [
  {
   "cell_type": "markdown",
   "metadata": {},
   "source": [
    "# Join Statements - Lab\n",
    "\n",
    "## Introduction\n",
    "\n",
    "In this lab, you'll practice your knowledge on Join statements.\n",
    "\n",
    "## Objectives\n",
    "\n",
    "You will be able to:\n",
    "- Write queries that make use of various types of Joins\n",
    "- Join tables using foreign keys"
   ]
  },
  {
   "cell_type": "markdown",
   "metadata": {},
   "source": [
    "## CRM Schema\n",
    "\n",
    "In almost all cases, rather then just working with a single table we will typically need data from multiple tables. \n",
    "Doing this requires the use of **joins ** using shared columns from the two tables. \n",
    "\n",
    "In this lab, we'll use the same Customer Relationship Management (CRM) database we used in our lecture before!\n",
    "<img src='Database-Schema.png' width=550>"
   ]
  },
  {
   "cell_type": "markdown",
   "metadata": {},
   "source": [
    "## Connecting to the Database\n",
    "Import the necessary packages and connect to the database **data.sqlite**."
   ]
  },
  {
   "cell_type": "code",
   "execution_count": 1,
   "metadata": {},
   "outputs": [],
   "source": [
    "import sqlite3\n",
    "conn = sqlite3.Connection('data.sqlite')\n",
    "c = conn.cursor()"
   ]
  },
  {
   "cell_type": "markdown",
   "metadata": {},
   "source": [
    "## Display the names of all the employees in Boston."
   ]
  },
  {
   "cell_type": "code",
   "execution_count": 8,
   "metadata": {},
   "outputs": [
    {
     "data": {
      "text/plain": [
       "[('Julie', 'Firrelli'), ('Steve', 'Patterson')]"
      ]
     },
     "execution_count": 8,
     "metadata": {},
     "output_type": "execute_result"
    }
   ],
   "source": [
    "c.execute(\"\"\"SELECT firstname,lastname FROM employees JOIN offices USING(officeCode) WHERE city='Boston';\"\"\").fetchall()"
   ]
  },
  {
   "cell_type": "markdown",
   "metadata": {},
   "source": [
    "## Do any offices have no employees?"
   ]
  },
  {
   "cell_type": "code",
   "execution_count": 9,
   "metadata": {},
   "outputs": [
    {
     "data": {
      "text/plain": [
       "[(6,), (2,), (2,), (5,), (2,), (4,), (2,)]"
      ]
     },
     "execution_count": 9,
     "metadata": {},
     "output_type": "execute_result"
    }
   ],
   "source": [
    "c.execute(\"\"\"SELECT count(*) FROM offices JOIN employees USING(officeCode) GROUP BY officeCode;\"\"\").fetchall()"
   ]
  },
  {
   "cell_type": "markdown",
   "metadata": {},
   "source": [
    "## Write 3 Questions of your own and answer them"
   ]
  },
  {
   "cell_type": "code",
   "execution_count": null,
   "metadata": {},
   "outputs": [],
   "source": [
    "# Answers will vary"
   ]
  },
  {
   "cell_type": "code",
   "execution_count": 12,
   "metadata": {},
   "outputs": [
    {
     "data": {
      "text/plain": [
       "[('1', 6)]"
      ]
     },
     "execution_count": 12,
     "metadata": {},
     "output_type": "execute_result"
    }
   ],
   "source": [
    "# Which office has the most employees?\n",
    "c.execute(\"\"\"SELECT officeCode, count(*) as EmployeeCount FROM offices JOIN employees USING(officeCode) GROUP BY officeCode ORDER BY EmployeeCount desc LIMIT 1;\"\"\").fetchall()"
   ]
  },
  {
   "cell_type": "code",
   "execution_count": 16,
   "metadata": {},
   "outputs": [
    {
     "data": {
      "text/plain": [
       "[(\"Kelly's Gift Shop\", 273)]"
      ]
     },
     "execution_count": 16,
     "metadata": {},
     "output_type": "execute_result"
    }
   ],
   "source": [
    "# Which customer has made the most payments?\n",
    "c.execute(\"\"\"SELECT customerName, count(*) numPayments FROM payments JOIN customers USING(customerNumber) ORDER BY numPayments desc LIMIT 1;\"\"\").fetchall()"
   ]
  },
  {
   "cell_type": "code",
   "execution_count": 18,
   "metadata": {},
   "outputs": [
    {
     "data": {
      "text/plain": [
       "[(\"Kelly's Gift Shop\", 8853839.229999999)]"
      ]
     },
     "execution_count": 18,
     "metadata": {},
     "output_type": "execute_result"
    }
   ],
   "source": [
    "# Which customer has spent the most?\n",
    "c.execute(\"\"\"SELECT customerName, sum(amount) numPayments FROM payments JOIN customers USING(customerNumber) ORDER BY numPayments desc LIMIT 1;\"\"\").fetchall()"
   ]
  },
  {
   "cell_type": "markdown",
   "metadata": {},
   "source": [
    "## Level Up: Display the names of each product each employee has sold."
   ]
  },
  {
   "cell_type": "code",
   "execution_count": 28,
   "metadata": {},
   "outputs": [],
   "source": [
    "import pandas as pd\n"
   ]
  },
  {
   "cell_type": "code",
   "execution_count": 32,
   "metadata": {},
   "outputs": [
    {
     "data": {
      "text/html": [
       "<div>\n",
       "<style scoped>\n",
       "    .dataframe tbody tr th:only-of-type {\n",
       "        vertical-align: middle;\n",
       "    }\n",
       "\n",
       "    .dataframe tbody tr th {\n",
       "        vertical-align: top;\n",
       "    }\n",
       "\n",
       "    .dataframe thead th {\n",
       "        text-align: right;\n",
       "    }\n",
       "</style>\n",
       "<table border=\"1\" class=\"dataframe\">\n",
       "  <thead>\n",
       "    <tr style=\"text-align: right;\">\n",
       "      <th></th>\n",
       "      <th>employeeNumber</th>\n",
       "      <th>lastName</th>\n",
       "      <th>firstName</th>\n",
       "      <th>extension</th>\n",
       "      <th>email</th>\n",
       "      <th>officeCode</th>\n",
       "      <th>reportsTo</th>\n",
       "      <th>jobTitle</th>\n",
       "      <th>customerNumber</th>\n",
       "      <th>customerName</th>\n",
       "      <th>...</th>\n",
       "      <th>orderNumber</th>\n",
       "      <th>orderDate</th>\n",
       "      <th>requiredDate</th>\n",
       "      <th>shippedDate</th>\n",
       "      <th>status</th>\n",
       "      <th>comments</th>\n",
       "      <th>productCode</th>\n",
       "      <th>quantityOrdered</th>\n",
       "      <th>priceEach</th>\n",
       "      <th>orderLineNumber</th>\n",
       "    </tr>\n",
       "  </thead>\n",
       "  <tbody>\n",
       "    <tr>\n",
       "      <th>0</th>\n",
       "      <td>1165</td>\n",
       "      <td>Jennings</td>\n",
       "      <td>Leslie</td>\n",
       "      <td>x3291</td>\n",
       "      <td>ljennings@classicmodelcars.com</td>\n",
       "      <td>1</td>\n",
       "      <td>1143</td>\n",
       "      <td>Sales Rep</td>\n",
       "      <td>124</td>\n",
       "      <td>Mini Gifts Distributors Ltd.</td>\n",
       "      <td>...</td>\n",
       "      <td>10113</td>\n",
       "      <td>2003-03-26</td>\n",
       "      <td>2003-04-02</td>\n",
       "      <td>2003-03-27</td>\n",
       "      <td>Shipped</td>\n",
       "      <td></td>\n",
       "      <td>S12_1666</td>\n",
       "      <td>21</td>\n",
       "      <td>121.64</td>\n",
       "      <td>2</td>\n",
       "    </tr>\n",
       "    <tr>\n",
       "      <th>1</th>\n",
       "      <td>1165</td>\n",
       "      <td>Jennings</td>\n",
       "      <td>Leslie</td>\n",
       "      <td>x3291</td>\n",
       "      <td>ljennings@classicmodelcars.com</td>\n",
       "      <td>1</td>\n",
       "      <td>1143</td>\n",
       "      <td>Sales Rep</td>\n",
       "      <td>124</td>\n",
       "      <td>Mini Gifts Distributors Ltd.</td>\n",
       "      <td>...</td>\n",
       "      <td>10113</td>\n",
       "      <td>2003-03-26</td>\n",
       "      <td>2003-04-02</td>\n",
       "      <td>2003-03-27</td>\n",
       "      <td>Shipped</td>\n",
       "      <td></td>\n",
       "      <td>S18_1097</td>\n",
       "      <td>49</td>\n",
       "      <td>101.50</td>\n",
       "      <td>4</td>\n",
       "    </tr>\n",
       "    <tr>\n",
       "      <th>2</th>\n",
       "      <td>1165</td>\n",
       "      <td>Jennings</td>\n",
       "      <td>Leslie</td>\n",
       "      <td>x3291</td>\n",
       "      <td>ljennings@classicmodelcars.com</td>\n",
       "      <td>1</td>\n",
       "      <td>1143</td>\n",
       "      <td>Sales Rep</td>\n",
       "      <td>124</td>\n",
       "      <td>Mini Gifts Distributors Ltd.</td>\n",
       "      <td>...</td>\n",
       "      <td>10113</td>\n",
       "      <td>2003-03-26</td>\n",
       "      <td>2003-04-02</td>\n",
       "      <td>2003-03-27</td>\n",
       "      <td>Shipped</td>\n",
       "      <td></td>\n",
       "      <td>S18_4668</td>\n",
       "      <td>50</td>\n",
       "      <td>43.27</td>\n",
       "      <td>3</td>\n",
       "    </tr>\n",
       "    <tr>\n",
       "      <th>3</th>\n",
       "      <td>1165</td>\n",
       "      <td>Jennings</td>\n",
       "      <td>Leslie</td>\n",
       "      <td>x3291</td>\n",
       "      <td>ljennings@classicmodelcars.com</td>\n",
       "      <td>1</td>\n",
       "      <td>1143</td>\n",
       "      <td>Sales Rep</td>\n",
       "      <td>124</td>\n",
       "      <td>Mini Gifts Distributors Ltd.</td>\n",
       "      <td>...</td>\n",
       "      <td>10113</td>\n",
       "      <td>2003-03-26</td>\n",
       "      <td>2003-04-02</td>\n",
       "      <td>2003-03-27</td>\n",
       "      <td>Shipped</td>\n",
       "      <td></td>\n",
       "      <td>S32_3522</td>\n",
       "      <td>23</td>\n",
       "      <td>58.82</td>\n",
       "      <td>1</td>\n",
       "    </tr>\n",
       "    <tr>\n",
       "      <th>4</th>\n",
       "      <td>1165</td>\n",
       "      <td>Jennings</td>\n",
       "      <td>Leslie</td>\n",
       "      <td>x3291</td>\n",
       "      <td>ljennings@classicmodelcars.com</td>\n",
       "      <td>1</td>\n",
       "      <td>1143</td>\n",
       "      <td>Sales Rep</td>\n",
       "      <td>124</td>\n",
       "      <td>Mini Gifts Distributors Ltd.</td>\n",
       "      <td>...</td>\n",
       "      <td>10135</td>\n",
       "      <td>2003-07-02</td>\n",
       "      <td>2003-07-12</td>\n",
       "      <td>2003-07-03</td>\n",
       "      <td>Shipped</td>\n",
       "      <td></td>\n",
       "      <td>S12_1099</td>\n",
       "      <td>42</td>\n",
       "      <td>173.17</td>\n",
       "      <td>7</td>\n",
       "    </tr>\n",
       "  </tbody>\n",
       "</table>\n",
       "<p>5 rows × 31 columns</p>\n",
       "</div>"
      ],
      "text/plain": [
       "  employeeNumber  lastName firstName extension  \\\n",
       "0           1165  Jennings    Leslie     x3291   \n",
       "1           1165  Jennings    Leslie     x3291   \n",
       "2           1165  Jennings    Leslie     x3291   \n",
       "3           1165  Jennings    Leslie     x3291   \n",
       "4           1165  Jennings    Leslie     x3291   \n",
       "\n",
       "                            email officeCode reportsTo   jobTitle  \\\n",
       "0  ljennings@classicmodelcars.com          1      1143  Sales Rep   \n",
       "1  ljennings@classicmodelcars.com          1      1143  Sales Rep   \n",
       "2  ljennings@classicmodelcars.com          1      1143  Sales Rep   \n",
       "3  ljennings@classicmodelcars.com          1      1143  Sales Rep   \n",
       "4  ljennings@classicmodelcars.com          1      1143  Sales Rep   \n",
       "\n",
       "  customerNumber                  customerName       ...       orderNumber  \\\n",
       "0            124  Mini Gifts Distributors Ltd.       ...             10113   \n",
       "1            124  Mini Gifts Distributors Ltd.       ...             10113   \n",
       "2            124  Mini Gifts Distributors Ltd.       ...             10113   \n",
       "3            124  Mini Gifts Distributors Ltd.       ...             10113   \n",
       "4            124  Mini Gifts Distributors Ltd.       ...             10135   \n",
       "\n",
       "    orderDate requiredDate shippedDate   status comments productCode  \\\n",
       "0  2003-03-26   2003-04-02  2003-03-27  Shipped             S12_1666   \n",
       "1  2003-03-26   2003-04-02  2003-03-27  Shipped             S18_1097   \n",
       "2  2003-03-26   2003-04-02  2003-03-27  Shipped             S18_4668   \n",
       "3  2003-03-26   2003-04-02  2003-03-27  Shipped             S32_3522   \n",
       "4  2003-07-02   2003-07-12  2003-07-03  Shipped             S12_1099   \n",
       "\n",
       "  quantityOrdered priceEach orderLineNumber  \n",
       "0              21    121.64               2  \n",
       "1              49    101.50               4  \n",
       "2              50     43.27               3  \n",
       "3              23     58.82               1  \n",
       "4              42    173.17               7  \n",
       "\n",
       "[5 rows x 31 columns]"
      ]
     },
     "execution_count": 32,
     "metadata": {},
     "output_type": "execute_result"
    }
   ],
   "source": [
    "c.execute(\"\"\"SELECT *\n",
    "               FROM employees e \n",
    "               JOIN customers c\n",
    "                 ON e.employeeNumber = c.salesRepEmployeeNumber\n",
    "               JOIN orders o \n",
    "              USING (customerNumber)\n",
    "               JOIN orderetails \n",
    "              USING (orderNumber)\n",
    "                 ;\"\"\")\n",
    "df = pd.DataFrame(c.fetchall())\n",
    "df. columns = [i[0] for i in c.description]\n",
    "df.head()"
   ]
  },
  {
   "cell_type": "code",
   "execution_count": null,
   "metadata": {},
   "outputs": [],
   "source": []
  },
  {
   "cell_type": "markdown",
   "metadata": {},
   "source": [
    "## Level Up: Display the Number of Products each Employee Has sold"
   ]
  },
  {
   "cell_type": "code",
   "execution_count": null,
   "metadata": {},
   "outputs": [],
   "source": [
    "#Your code here"
   ]
  },
  {
   "cell_type": "markdown",
   "metadata": {},
   "source": [
    "## Summary"
   ]
  },
  {
   "cell_type": "markdown",
   "metadata": {},
   "source": [
    "Congrats! You now know how to use Join statements, along with leveraging your foreign keys knowledge!"
   ]
  }
 ],
 "metadata": {
  "kernelspec": {
   "display_name": "Python 3",
   "language": "python",
   "name": "python3"
  },
  "language_info": {
   "codemirror_mode": {
    "name": "ipython",
    "version": 3
   },
   "file_extension": ".py",
   "mimetype": "text/x-python",
   "name": "python",
   "nbconvert_exporter": "python",
   "pygments_lexer": "ipython3",
   "version": "3.6.6"
  }
 },
 "nbformat": 4,
 "nbformat_minor": 2
}
